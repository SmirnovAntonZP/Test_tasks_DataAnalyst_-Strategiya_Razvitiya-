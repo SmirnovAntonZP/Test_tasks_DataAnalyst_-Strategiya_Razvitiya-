{
 "cells": [
  {
   "cell_type": "code",
   "execution_count": 1,
   "id": "98e03f78-5286-421c-92c5-89ebbb33e39e",
   "metadata": {},
   "outputs": [],
   "source": [
    "import pandas as pd"
   ]
  },
  {
   "cell_type": "code",
   "execution_count": 3,
   "id": "2ed2f2c7-c920-4f5c-94fe-d47259ee3d16",
   "metadata": {},
   "outputs": [],
   "source": [
    "# Загрузка данных\n",
    "df1 = pd.read_excel('Магнит Уход и гигиена 07.24.0.xlsb', engine='pyxlsb')\n",
    "df2 = pd.read_excel('Магнит Уход и гигиена 08.24.0.xlsb', engine='pyxlsb')"
   ]
  },
  {
   "cell_type": "code",
   "execution_count": 5,
   "id": "cc0ada89-33e3-4f03-a635-54d6f1757e68",
   "metadata": {},
   "outputs": [
    {
     "ename": "AssertionError",
     "evalue": "Порядок столбцов в таблицах разный!",
     "output_type": "error",
     "traceback": [
      "\u001b[0;31m---------------------------------------------------------------------------\u001b[0m",
      "\u001b[0;31mAssertionError\u001b[0m                            Traceback (most recent call last)",
      "Cell \u001b[0;32mIn[5], line 2\u001b[0m\n\u001b[1;32m      1\u001b[0m \u001b[38;5;66;03m# Проверка идентичности таблиц на кол-во столбцов (В результате выполнения блока выводит ошибку, если порядок столбцов разный)\u001b[39;00m\n\u001b[0;32m----> 2\u001b[0m \u001b[38;5;28;01massert\u001b[39;00m df1\u001b[38;5;241m.\u001b[39mcolumns\u001b[38;5;241m.\u001b[39mtolist() \u001b[38;5;241m==\u001b[39m df2\u001b[38;5;241m.\u001b[39mcolumns\u001b[38;5;241m.\u001b[39mtolist(), \u001b[38;5;124m\"\u001b[39m\u001b[38;5;124mПорядок столбцов в таблицах разный!\u001b[39m\u001b[38;5;124m\"\u001b[39m\n",
      "\u001b[0;31mAssertionError\u001b[0m: Порядок столбцов в таблицах разный!"
     ]
    }
   ],
   "source": [
    "# Проверка идентичности таблиц на кол-во столбцов (В результате выполнения блока выводит ошибку, если порядок столбцов разный)\n",
    "assert df1.columns.tolist() == df2.columns.tolist(), \"Порядок столбцов в таблицах разный!\""
   ]
  },
  {
   "cell_type": "code",
   "execution_count": 7,
   "id": "a9d9aae9-9cd9-49f2-b905-4f93358c08bd",
   "metadata": {},
   "outputs": [
    {
     "name": "stdout",
     "output_type": "stream",
     "text": [
      "[Количество столбцов]\n",
      "Таблица 1: 23\n",
      "Таблица 2: 24\n",
      "\n",
      "[Названия столбцов]\n",
      "Таблица 1: ['Месяц', 'Год', 'Код', 'Название магазина', 'Адрес', 'Основной РЦ', 'Регион', 'Формат', 'Субформат', 'Уровень', 'Уровень.1', 'Уровень.2', 'Уровень.3', 'Код позиции', 'Наименование', 'Бренд', 'Поставщик', 'Вес', 'Единица измерения', 'Штриховой код', 'Продажи в шт.', 'Себестоимсть в руб.', 'Продажи в руб.']\n",
      "Таблица 2: ['Месяц', 'Год', 'Код', 'Название магазина', 'Адрес', 'Основной РЦ', 'Регион', 'Формат', 'Субформат', 'Уровень', 'Уровень.1', 'Уровень.2', 'Уровень.3', 'Уровень.4', 'Код позиции', 'Наименование', 'Бренд', 'Поставщик', 'Вес', 'Единица измерения', 'Штриховой код', 'Продажи в шт.', 'Себестоимсть в руб.', 'Продажи в руб.']\n",
      "\n",
      "⚠️ Обнаружены различия!\n",
      "-> Уникальные столбцы в Таблице 2: ['Уровень.4']\n"
     ]
    }
   ],
   "source": [
    "# Блок на проверку кол-ва столбцов, их названий и различий в обеих таблицах \n",
    "#(понадобился потому как предыдущий блок кода (Проверки идентичности таблиц) показал разный порядок колонок)\n",
    "# Получаем названия столбцов\n",
    "cols1 = df1.columns.tolist()\n",
    "cols2 = df2.columns.tolist()\n",
    "\n",
    "# Выводим базовую информацию\n",
    "print(\"[Количество столбцов]\")\n",
    "print(f\"Таблица 1: {len(cols1)}\")\n",
    "print(f\"Таблица 2: {len(cols2)}\\n\")\n",
    "\n",
    "print(\"[Названия столбцов]\")\n",
    "print(f\"Таблица 1: {cols1}\")\n",
    "print(f\"Таблица 2: {cols2}\\n\")\n",
    "\n",
    "# Проверка на отличия\n",
    "if cols1 == cols2:\n",
    "    print(\"✅ Столбцы полностью идентичны (включая порядок)!\")\n",
    "else:\n",
    "    print(\"⚠️ Обнаружены различия!\")\n",
    "\n",
    "    # Сравнение через множества (без учета порядка)\n",
    "    set1 = set(cols1)\n",
    "    set2 = set(cols2)\n",
    "\n",
    "    if set1 == set2:\n",
    "        print(\"-> Названия столбцов совпадают, но отличается порядок!\")\n",
    "    else:\n",
    "        # Поиск уникальных столбцов\n",
    "        unique_in_1 = list(set1 - set2)\n",
    "        unique_in_2 = list(set2 - set1)\n",
    "        \n",
    "        if unique_in_1:\n",
    "            print(f\"-> Уникальные столбцы в Таблице 1: {unique_in_1}\")\n",
    "        if unique_in_2:\n",
    "            print(f\"-> Уникальные столбцы в Таблице 2: {unique_in_2}\")\n",
    "\n",
    "    # Проверка порядка\n",
    "    if len(cols1) == len(cols2):\n",
    "        order_diff = [i for i, (a, b) in enumerate(zip(cols1, cols2)) if a != b]\n",
    "        if order_diff:\n",
    "            print(f\"-> Столбцы расположены в разном порядке. Несовпадения на позициях: {order_diff}\")"
   ]
  },
  {
   "cell_type": "code",
   "execution_count": 9,
   "id": "ef2b6df0-30b2-4a78-ab9d-824f9f29de7b",
   "metadata": {},
   "outputs": [],
   "source": [
    "# Сохраняем исходный порядок столбцов из второй таблицы (так как в df2 на столбец больше)\n",
    "original_columns = df2.columns.tolist()"
   ]
  },
  {
   "cell_type": "code",
   "execution_count": 11,
   "id": "6a824819-9c57-41f4-8606-b60970484f79",
   "metadata": {},
   "outputs": [],
   "source": [
    "# Объединение таблиц\n",
    "combined_df = pd.concat([df1, df2])"
   ]
  },
  {
   "cell_type": "code",
   "execution_count": 13,
   "id": "133f4561-3c22-4881-a8e5-2f59df4a3bdf",
   "metadata": {},
   "outputs": [],
   "source": [
    "# Определение столбцов для суммирования и группировки\n",
    "sum_columns = ['Продажи в шт.', 'Себестоимсть в руб.', 'Продажи в руб.']\n",
    "group_columns = ['Код', 'Код позиции']"
   ]
  },
  {
   "cell_type": "code",
   "execution_count": 15,
   "id": "a066fdc7-eaaa-463d-8074-bf804966427b",
   "metadata": {},
   "outputs": [],
   "source": [
    "# Создание словаря для агрегации\n",
    "agg_dict = {col: 'sum' for col in sum_columns}\n",
    "for col in combined_df.columns:\n",
    "    if col not in sum_columns + group_columns:\n",
    "        agg_dict[col] = 'first'"
   ]
  },
  {
   "cell_type": "code",
   "execution_count": 17,
   "id": "b43c4700-e24c-4854-8e7c-528eefa4791b",
   "metadata": {},
   "outputs": [],
   "source": [
    "# Группировка и агрегация\n",
    "result_df = combined_df.groupby(group_columns, as_index=False).agg(agg_dict)"
   ]
  },
  {
   "cell_type": "code",
   "execution_count": 19,
   "id": "eb9e8e04-2b93-49fd-b85a-f4d704d942fe",
   "metadata": {},
   "outputs": [
    {
     "name": "stdout",
     "output_type": "stream",
     "text": [
      "Найдено дубликатов: 0\n"
     ]
    }
   ],
   "source": [
    "# Проверка дубликатов\n",
    "duplicates = result_df.duplicated(subset=['Код', 'Код позиции']).sum()\n",
    "print(f\"Найдено дубликатов: {duplicates}\")"
   ]
  },
  {
   "cell_type": "code",
   "execution_count": 21,
   "id": "0c91d284-27ff-4266-a4c5-01aafb1d4ea1",
   "metadata": {},
   "outputs": [
    {
     "name": "stdout",
     "output_type": "stream",
     "text": [
      "Количество строк после группировки: 1323508\n"
     ]
    }
   ],
   "source": [
    "# Проверка кол-ва строк после группировки (Необходимо для выбора формата сохранения файла)\n",
    "print(f\"Количество строк после группировки: {len(result_df)}\")"
   ]
  },
  {
   "cell_type": "code",
   "execution_count": 23,
   "id": "6282817e-56f2-4a6a-ab88-a96e48fff57f",
   "metadata": {},
   "outputs": [],
   "source": [
    "# Восстанавливаем исходный порядок столбцов\n",
    "result_df = result_df[original_columns]"
   ]
  },
  {
   "cell_type": "code",
   "execution_count": 25,
   "id": "cbc88616-95af-4cef-8376-f8afc1af73db",
   "metadata": {},
   "outputs": [],
   "source": [
    "# Исходя из данных полученных в предыдущих двух блоках, разбиваем получившийся датафрейм на две части и сохраняем на двух ли\n",
    "max_rows = 1_000_000  # Максимум для одного листа\n",
    "chunks = [result_df[i:i+max_rows] for i in range(0, len(result_df), max_rows)]\n",
    "\n",
    "with pd.ExcelWriter('Объединенный_отчет_Магнит_июль_август.xlsx', engine='openpyxl') as writer:\n",
    "    for idx, chunk in enumerate(chunks):\n",
    "        chunk.to_excel(writer, sheet_name=f'Лист_{idx+1}', index=False)"
   ]
  },
  {
   "cell_type": "code",
   "execution_count": null,
   "id": "64d3ee16-a2ca-4254-af46-6668a0e45136",
   "metadata": {},
   "outputs": [],
   "source": []
  }
 ],
 "metadata": {
  "kernelspec": {
   "display_name": "Python 3 (ipykernel)",
   "language": "python",
   "name": "python3"
  },
  "language_info": {
   "codemirror_mode": {
    "name": "ipython",
    "version": 3
   },
   "file_extension": ".py",
   "mimetype": "text/x-python",
   "name": "python",
   "nbconvert_exporter": "python",
   "pygments_lexer": "ipython3",
   "version": "3.12.7"
  }
 },
 "nbformat": 4,
 "nbformat_minor": 5
}
