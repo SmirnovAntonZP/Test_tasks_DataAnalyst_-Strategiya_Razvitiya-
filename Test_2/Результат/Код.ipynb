{
 "cells": [
  {
   "cell_type": "code",
   "execution_count": 2,
   "id": "6c520720-1ecd-4563-84a7-13d41a122731",
   "metadata": {},
   "outputs": [],
   "source": [
    "import pandas as pd\n",
    "from datetime import datetime, timedelta\n",
    "from openpyxl import Workbook\n",
    "from openpyxl.styles import Font, Border, Side, Alignment, PatternFill\n",
    "from openpyxl.utils.dataframe import dataframe_to_rows"
   ]
  },
  {
   "cell_type": "code",
   "execution_count": 3,
   "id": "1b1819e0-032c-46e0-ae54-e69e98eac847",
   "metadata": {},
   "outputs": [],
   "source": [
    "# Загрузка данных\n",
    "df_main = pd.read_excel('01.2025 Верный Торты и пирожные.xlsb')\n",
    "df_sku = pd.read_excel('Справочник Кондитерка Фрэш.xlsx')\n",
    "df_tt = pd.read_excel('Справочник ТТ.xlsx')"
   ]
  },
  {
   "cell_type": "code",
   "execution_count": 4,
   "id": "7538e622-76fc-4bc9-aded-2203194034a7",
   "metadata": {},
   "outputs": [],
   "source": [
    "# 1. Расчет себестоимости\n",
    "df_main['Себестоимость(руб.)'] = df_main['Цена вх.'] * df_main['Реализация шт.(кг)']"
   ]
  },
  {
   "cell_type": "code",
   "execution_count": 5,
   "id": "cb13de1e-75cb-4598-bd5a-21f07a3a6aa2",
   "metadata": {},
   "outputs": [],
   "source": [
    "# Так как в исходной таблице ошибка в нумерации недель, вариант конвертации недель в месяцы не подходит (код конвертации ниже).\n",
    "# В колонке \"Месяц\" принудительно установим значение 1                                                                         \n",
    "\n",
    "# # 2. Конвертация недели в месяц\n",
    "# def week_to_month(week_number, year=2025):\n",
    "#     start_date = datetime(year, 1, 1)\n",
    "#     week_date = start_date + timedelta(weeks=week_number-1)\n",
    "#     return week_date.month\n",
    "\n",
    "# df_main['Месяц'] = df_main['Неделя'].apply(week_to_month)\n",
    "# df_main['Год'] = 2025"
   ]
  },
  {
   "cell_type": "code",
   "execution_count": 6,
   "id": "f01e001c-88dc-42eb-946b-728d66a4cd20",
   "metadata": {},
   "outputs": [],
   "source": [
    "# 2. Принудительно устанавливаем месяц = 1 для всех записей\n",
    "df_main['Месяц'] = 1\n",
    "df_main['Год'] = 2025"
   ]
  },
  {
   "cell_type": "code",
   "execution_count": 7,
   "id": "3e11a181-8a9f-42b0-85ae-bc78d9c7b7d2",
   "metadata": {},
   "outputs": [],
   "source": [
    "# 3. Агрегация данных\n",
    "numeric_cols = ['Реализация шт.(кг)', 'Реализация Сумма', 'Себестоимость(руб.)']\n",
    "group_cols = ['Месяц', 'Год', '№ магазина', 'Код товара', 'Наименование товара']\n",
    "df_month = df_main.groupby(group_cols)[numeric_cols].sum().reset_index()"
   ]
  },
  {
   "cell_type": "code",
   "execution_count": 8,
   "id": "e093f56c-ddd6-4123-aad4-7060f34d39a7",
   "metadata": {},
   "outputs": [],
   "source": [
    "# 4. Добавление глобальных кодов\n",
    "df_month['Сеть'] = 'VERNYY'\n",
    "df_month['Глобальный код ТТ'] = 'VERNYY' + df_month['№ магазина'].astype(str)\n",
    "df_month['Глобальный Код SKU'] = 'VERNYY' + df_month['Код товара'].astype(str)"
   ]
  },
  {
   "cell_type": "code",
   "execution_count": 9,
   "id": "a93ca66f-9938-4885-8f09-01a415dce9bc",
   "metadata": {},
   "outputs": [],
   "source": [
    "# 5. Получение наименований SKU из справочника\n",
    "sku_mapping = df_sku.set_index('Глобальный Код SKU')['Наименование SKU'].to_dict()\n",
    "df_month['Наименование SKU'] = df_month['Глобальный Код SKU'].map(sku_mapping)"
   ]
  },
  {
   "cell_type": "code",
   "execution_count": 10,
   "id": "6df3e6cb-d870-47e3-b384-e7b0fd5844f4",
   "metadata": {},
   "outputs": [],
   "source": [
    "# 6. Фильтрация и переименование столбцов\n",
    "result_cols = [\n",
    "    'Месяц', 'Год', 'Сеть', 'Глобальный код ТТ', \n",
    "    '№ магазина', 'Глобальный Код SKU', 'Наименование SKU',\n",
    "    'Реализация шт.(кг)', 'Реализация Сумма', 'Себестоимость(руб.)'\n",
    "]"
   ]
  },
  {
   "cell_type": "code",
   "execution_count": 11,
   "id": "77a0d7d3-2329-4986-a8a6-1b0080461755",
   "metadata": {},
   "outputs": [],
   "source": [
    "final_df = df_month[result_cols].rename(columns={\n",
    "    '№ магазина': 'Код ТТ',\n",
    "    'Реализация шт.(кг)': 'Продажа(шт)',\n",
    "    'Реализация Сумма': 'Оборот(руб.)'\n",
    "})"
   ]
  },
  {
   "cell_type": "code",
   "execution_count": 12,
   "id": "700a4002-55d4-4a90-a6ce-94989ee702c1",
   "metadata": {},
   "outputs": [],
   "source": [
    "# 7. Создание Excel файла с форматированием\n",
    "wb = Workbook()\n",
    "ws = wb.active\n",
    "ws.title = \"Отчет VERNYY\""
   ]
  },
  {
   "cell_type": "code",
   "execution_count": 13,
   "id": "d9ffb1fb-e75a-47fc-8247-83f43d78b2b9",
   "metadata": {},
   "outputs": [],
   "source": [
    "# Заголовки\n",
    "headers = [\n",
    "    'Месяц', 'Год', 'Сеть', 'Глобальный код ТТ', 'Код ТТ',\n",
    "    'Глобальный Код SKU', 'Наименование SKU', \n",
    "    'Продажа(шт)', 'Оборот(руб.)', 'Себестоимость(руб.)'\n",
    "]"
   ]
  },
  {
   "cell_type": "code",
   "execution_count": 14,
   "id": "deddac1a-9ee3-467d-9ff4-c5740122c9bc",
   "metadata": {},
   "outputs": [],
   "source": [
    "# Наполнение данными\n",
    "for r in dataframe_to_rows(final_df, index=False, header=True):\n",
    "    ws.append(r)"
   ]
  },
  {
   "cell_type": "code",
   "execution_count": 15,
   "id": "2fcb8442-90e8-4c81-9197-5b9f2b7459d6",
   "metadata": {},
   "outputs": [],
   "source": [
    "# Стили оформления\n",
    "header_font = Font(bold=True, color=\"FFFFFF\")\n",
    "header_fill = PatternFill(start_color=\"4F81BD\", end_color=\"4F81BD\", fill_type=\"solid\")\n",
    "thin_border = Border(\n",
    "    left=Side(style='thin'), \n",
    "    right=Side(style='thin'), \n",
    "    top=Side(style='thin'), \n",
    "    bottom=Side(style='thin')\n",
    ")"
   ]
  },
  {
   "cell_type": "code",
   "execution_count": 16,
   "id": "7c144f12-e638-439b-b3a9-a501b1e72525",
   "metadata": {},
   "outputs": [],
   "source": [
    "# Применение стилей\n",
    "for row in ws.iter_rows(min_row=1, max_row=1):\n",
    "    for cell in row:\n",
    "        cell.font = header_font\n",
    "        cell.fill = header_fill\n",
    "        cell.border = thin_border\n",
    "\n",
    "for row in ws.iter_rows(min_row=2):\n",
    "    for cell in row:\n",
    "        cell.border = thin_border\n",
    "        if cell.column_letter in ['G', 'H', 'I', 'J']:\n",
    "            cell.number_format = '#,##0.00'\n",
    "        elif cell.column_letter in ['A', 'B']:\n",
    "            cell.number_format = '0'"
   ]
  },
  {
   "cell_type": "code",
   "execution_count": 17,
   "id": "aa8c2623-7d96-45b1-a0b0-e3b97a002d11",
   "metadata": {},
   "outputs": [],
   "source": [
    "# Автоподбор ширины столбцов\n",
    "for col in ws.columns:\n",
    "    max_length = 0\n",
    "    column = col[0].column_letter\n",
    "    for cell in col:\n",
    "        cell.alignment = Alignment(horizontal='center', vertical='center')\n",
    "        try:\n",
    "            if len(str(cell.value)) > max_length:\n",
    "                max_length = len(str(cell.value))\n",
    "        except:\n",
    "            pass\n",
    "    adjusted_width = (max_length + 2) * 1.2\n",
    "    ws.column_dimensions[column].width = adjusted_width"
   ]
  },
  {
   "cell_type": "code",
   "execution_count": 18,
   "id": "a4e255c7-5990-46b0-bdaa-f07513cd8f66",
   "metadata": {},
   "outputs": [
    {
     "data": {
      "text/html": [
       "<div>\n",
       "<style scoped>\n",
       "    .dataframe tbody tr th:only-of-type {\n",
       "        vertical-align: middle;\n",
       "    }\n",
       "\n",
       "    .dataframe tbody tr th {\n",
       "        vertical-align: top;\n",
       "    }\n",
       "\n",
       "    .dataframe thead th {\n",
       "        text-align: right;\n",
       "    }\n",
       "</style>\n",
       "<table border=\"1\" class=\"dataframe\">\n",
       "  <thead>\n",
       "    <tr style=\"text-align: right;\">\n",
       "      <th></th>\n",
       "      <th>Месяц</th>\n",
       "      <th>Год</th>\n",
       "      <th>Сеть</th>\n",
       "      <th>Глобальный код ТТ</th>\n",
       "      <th>Код ТТ</th>\n",
       "      <th>Глобальный Код SKU</th>\n",
       "      <th>Наименование SKU</th>\n",
       "      <th>Продажа(шт)</th>\n",
       "      <th>Оборот(руб.)</th>\n",
       "      <th>Себестоимость(руб.)</th>\n",
       "    </tr>\n",
       "  </thead>\n",
       "  <tbody>\n",
       "    <tr>\n",
       "      <th>0</th>\n",
       "      <td>1</td>\n",
       "      <td>2025</td>\n",
       "      <td>VERNYY</td>\n",
       "      <td>VERNYY1002</td>\n",
       "      <td>1002</td>\n",
       "      <td>VERNYY100593</td>\n",
       "      <td>Пирожное Чокопай Orion Сhoco Pie 360г</td>\n",
       "      <td>5</td>\n",
       "      <td>854.95</td>\n",
       "      <td>580.20</td>\n",
       "    </tr>\n",
       "    <tr>\n",
       "      <th>1</th>\n",
       "      <td>1</td>\n",
       "      <td>2025</td>\n",
       "      <td>VERNYY</td>\n",
       "      <td>VERNYY1002</td>\n",
       "      <td>1002</td>\n",
       "      <td>VERNYY100596</td>\n",
       "      <td>Пирожное Чокопай Orion Сhoco Pie 180г</td>\n",
       "      <td>17</td>\n",
       "      <td>1761.98</td>\n",
       "      <td>1035.98</td>\n",
       "    </tr>\n",
       "    <tr>\n",
       "      <th>2</th>\n",
       "      <td>1</td>\n",
       "      <td>2025</td>\n",
       "      <td>VERNYY</td>\n",
       "      <td>VERNYY1002</td>\n",
       "      <td>1002</td>\n",
       "      <td>VERNYY100920</td>\n",
       "      <td>Пирожное Медвежонок Барни шок.начинкой 150г</td>\n",
       "      <td>22</td>\n",
       "      <td>2184.78</td>\n",
       "      <td>2706.22</td>\n",
       "    </tr>\n",
       "    <tr>\n",
       "      <th>3</th>\n",
       "      <td>1</td>\n",
       "      <td>2025</td>\n",
       "      <td>VERNYY</td>\n",
       "      <td>VERNYY1002</td>\n",
       "      <td>1002</td>\n",
       "      <td>VERNYY100934</td>\n",
       "      <td>Пирожное Медвежонок Барни биск с нач в ассорт ...</td>\n",
       "      <td>13</td>\n",
       "      <td>1294.87</td>\n",
       "      <td>1599.13</td>\n",
       "    </tr>\n",
       "    <tr>\n",
       "      <th>4</th>\n",
       "      <td>1</td>\n",
       "      <td>2025</td>\n",
       "      <td>VERNYY</td>\n",
       "      <td>VERNYY1002</td>\n",
       "      <td>1002</td>\n",
       "      <td>VERNYY102454</td>\n",
       "      <td>Торт Черемушки Чародейка Классика 650г</td>\n",
       "      <td>22</td>\n",
       "      <td>9783.04</td>\n",
       "      <td>6512.88</td>\n",
       "    </tr>\n",
       "  </tbody>\n",
       "</table>\n",
       "</div>"
      ],
      "text/plain": [
       "   Месяц   Год    Сеть Глобальный код ТТ  Код ТТ Глобальный Код SKU  \\\n",
       "0      1  2025  VERNYY        VERNYY1002    1002       VERNYY100593   \n",
       "1      1  2025  VERNYY        VERNYY1002    1002       VERNYY100596   \n",
       "2      1  2025  VERNYY        VERNYY1002    1002       VERNYY100920   \n",
       "3      1  2025  VERNYY        VERNYY1002    1002       VERNYY100934   \n",
       "4      1  2025  VERNYY        VERNYY1002    1002       VERNYY102454   \n",
       "\n",
       "                                    Наименование SKU  Продажа(шт)  \\\n",
       "0              Пирожное Чокопай Orion Сhoco Pie 360г            5   \n",
       "1              Пирожное Чокопай Orion Сhoco Pie 180г           17   \n",
       "2        Пирожное Медвежонок Барни шок.начинкой 150г           22   \n",
       "3  Пирожное Медвежонок Барни биск с нач в ассорт ...           13   \n",
       "4             Торт Черемушки Чародейка Классика 650г           22   \n",
       "\n",
       "   Оборот(руб.)  Себестоимость(руб.)  \n",
       "0        854.95               580.20  \n",
       "1       1761.98              1035.98  \n",
       "2       2184.78              2706.22  \n",
       "3       1294.87              1599.13  \n",
       "4       9783.04              6512.88  "
      ]
     },
     "execution_count": 18,
     "metadata": {},
     "output_type": "execute_result"
    }
   ],
   "source": [
    "# Вывод первых 5 строк фрейма для проверки изменений\n",
    "final_df.head(5)"
   ]
  },
  {
   "cell_type": "code",
   "execution_count": 19,
   "id": "3bd4c473-0b2f-4610-884b-e25934db8c41",
   "metadata": {},
   "outputs": [],
   "source": [
    "# Фиксация заголовков\n",
    "ws.freeze_panes = 'A2'"
   ]
  },
  {
   "cell_type": "code",
   "execution_count": 20,
   "id": "d4508ea8-b631-48e1-ad66-fb44a1be2062",
   "metadata": {},
   "outputs": [
    {
     "name": "stdout",
     "output_type": "stream",
     "text": [
      "Файл успешно создан!\n"
     ]
    }
   ],
   "source": [
    "# Сохранение файла\n",
    "wb.save(\"Отчет_VERNYY_2025.xlsx\")\n",
    "print(\"Файл успешно создан!\")"
   ]
  }
 ],
 "metadata": {
  "kernelspec": {
   "display_name": "Python 3 (ipykernel)",
   "language": "python",
   "name": "python3"
  },
  "language_info": {
   "codemirror_mode": {
    "name": "ipython",
    "version": 3
   },
   "file_extension": ".py",
   "mimetype": "text/x-python",
   "name": "python",
   "nbconvert_exporter": "python",
   "pygments_lexer": "ipython3",
   "version": "3.12.7"
  }
 },
 "nbformat": 4,
 "nbformat_minor": 5
}
